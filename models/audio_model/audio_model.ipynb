{
 "cells": [
  {
   "cell_type": "code",
   "execution_count": 11,
   "metadata": {},
   "outputs": [],
   "source": [
    "import pandas as pd\n",
    "import numpy as np\n",
    "import os\n",
    "\n",
    "main_dir = os.environ.get(\"MAIN_DIRECTORY\")\n",
    "os.chdir(main_dir)\n",
    "\n",
    "from preprocessing.preprocessor import preprocess_audio\n",
    "\n",
    "from dotenv import load_dotenv, find_dotenv\n",
    "load_dotenv(find_dotenv())\n",
    "\n",
    "from sklearn.model_selection import train_test_split\n",
    "from tensorflow.keras.models import Sequential\n",
    "from tensorflow.keras.layers import Conv1D, MaxPooling1D, GlobalAveragePooling1D, Dense, Dropout\n",
    "from tensorflow.keras.optimizers import Adam\n",
    "from tensorflow.keras.utils import to_categorical"
   ]
  },
  {
   "cell_type": "code",
   "execution_count": 2,
   "metadata": {},
   "outputs": [],
   "source": [
    "model_save_path = os.environ.get(\"PRETRAINED_MODELS_PATH\")"
   ]
  },
  {
   "cell_type": "code",
   "execution_count": 3,
   "metadata": {},
   "outputs": [
    {
     "name": "stdout",
     "output_type": "stream",
     "text": [
      "['negative', 'neutral', 'positive']\n"
     ]
    }
   ],
   "source": [
    "sentiments = ['negative', 'neutral', 'positive']\n",
    "print(sentiments)"
   ]
  },
  {
   "cell_type": "code",
   "execution_count": 4,
   "metadata": {},
   "outputs": [],
   "source": [
    "data = preprocess_audio(\"models/audio_model/data\")"
   ]
  },
  {
   "cell_type": "code",
   "execution_count": 5,
   "metadata": {},
   "outputs": [
    {
     "data": {
      "text/html": [
       "<div>\n",
       "<style scoped>\n",
       "    .dataframe tbody tr th:only-of-type {\n",
       "        vertical-align: middle;\n",
       "    }\n",
       "\n",
       "    .dataframe tbody tr th {\n",
       "        vertical-align: top;\n",
       "    }\n",
       "\n",
       "    .dataframe thead th {\n",
       "        text-align: right;\n",
       "    }\n",
       "</style>\n",
       "<table border=\"1\" class=\"dataframe\">\n",
       "  <thead>\n",
       "    <tr style=\"text-align: right;\">\n",
       "      <th></th>\n",
       "      <th>Name</th>\n",
       "      <th>Features</th>\n",
       "      <th>Label</th>\n",
       "    </tr>\n",
       "  </thead>\n",
       "  <tbody>\n",
       "    <tr>\n",
       "      <th>0</th>\n",
       "      <td>03-01-08-02-02-02-23.wav</td>\n",
       "      <td>[[-3.4641016, -3.4641016, -3.4641016, -3.46410...</td>\n",
       "      <td>0</td>\n",
       "    </tr>\n",
       "    <tr>\n",
       "      <th>1</th>\n",
       "      <td>03-01-08-02-02-02-23.wav</td>\n",
       "      <td>[[-3.464102, -3.464102, -3.464102, -3.464102, ...</td>\n",
       "      <td>0</td>\n",
       "    </tr>\n",
       "    <tr>\n",
       "      <th>2</th>\n",
       "      <td>03-01-08-02-02-02-23.wav</td>\n",
       "      <td>[[-3.4641018, -3.4641018, -3.4641018, -3.46410...</td>\n",
       "      <td>0</td>\n",
       "    </tr>\n",
       "    <tr>\n",
       "      <th>3</th>\n",
       "      <td>03-01-08-02-02-02-23.wav</td>\n",
       "      <td>[[-3.4641013, -3.4641013, -3.4641013, -3.46410...</td>\n",
       "      <td>0</td>\n",
       "    </tr>\n",
       "    <tr>\n",
       "      <th>4</th>\n",
       "      <td>03-01-08-02-02-02-23.wav</td>\n",
       "      <td>[[-3.4641001, -3.463962, -3.4638703, -3.464023...</td>\n",
       "      <td>0</td>\n",
       "    </tr>\n",
       "  </tbody>\n",
       "</table>\n",
       "</div>"
      ],
      "text/plain": [
       "                       Name  \\\n",
       "0  03-01-08-02-02-02-23.wav   \n",
       "1  03-01-08-02-02-02-23.wav   \n",
       "2  03-01-08-02-02-02-23.wav   \n",
       "3  03-01-08-02-02-02-23.wav   \n",
       "4  03-01-08-02-02-02-23.wav   \n",
       "\n",
       "                                            Features  Label  \n",
       "0  [[-3.4641016, -3.4641016, -3.4641016, -3.46410...      0  \n",
       "1  [[-3.464102, -3.464102, -3.464102, -3.464102, ...      0  \n",
       "2  [[-3.4641018, -3.4641018, -3.4641018, -3.46410...      0  \n",
       "3  [[-3.4641013, -3.4641013, -3.4641013, -3.46410...      0  \n",
       "4  [[-3.4641001, -3.463962, -3.4638703, -3.464023...      0  "
      ]
     },
     "execution_count": 5,
     "metadata": {},
     "output_type": "execute_result"
    }
   ],
   "source": [
    "data.head()"
   ]
  },
  {
   "cell_type": "code",
   "execution_count": null,
   "metadata": {},
   "outputs": [],
   "source": [
    "X = np.array(data[\"Features\"].to_list())\n",
    "y = to_categorical(data['Label'], num_classes=3)\n",
    "\n",
    "X_train, X_test, y_train, y_test = train_test_split(X, y, test_size=0.2)"
   ]
  },
  {
   "cell_type": "code",
   "execution_count": 40,
   "metadata": {},
   "outputs": [],
   "source": [
    "model = Sequential([\n",
    "    Conv1D(2048, 5, activation='relu', input_shape=(165, 13)),\n",
    "    MaxPooling1D(3),\n",
    "    Conv1D(512, 5, activation='relu'),\n",
    "    MaxPooling1D(3),\n",
    "    Conv1D(128, 3, activation='relu'),\n",
    "    GlobalAveragePooling1D(),\n",
    "    Dense(32, activation='relu'),\n",
    "    Dense(3, activation='softmax')\n",
    "])"
   ]
  },
  {
   "cell_type": "code",
   "execution_count": 41,
   "metadata": {},
   "outputs": [
    {
     "name": "stdout",
     "output_type": "stream",
     "text": [
      "Model: \"sequential_8\"\n",
      "_________________________________________________________________\n",
      " Layer (type)                Output Shape              Param #   \n",
      "=================================================================\n",
      " conv1d_21 (Conv1D)          (None, 161, 2048)         135168    \n",
      "                                                                 \n",
      " max_pooling1d_14 (MaxPoolin  (None, 53, 2048)         0         \n",
      " g1D)                                                            \n",
      "                                                                 \n",
      " conv1d_22 (Conv1D)          (None, 49, 512)           5243392   \n",
      "                                                                 \n",
      " max_pooling1d_15 (MaxPoolin  (None, 16, 512)          0         \n",
      " g1D)                                                            \n",
      "                                                                 \n",
      " conv1d_23 (Conv1D)          (None, 14, 128)           196736    \n",
      "                                                                 \n",
      " global_average_pooling1d_7   (None, 128)              0         \n",
      " (GlobalAveragePooling1D)                                        \n",
      "                                                                 \n",
      " dense_20 (Dense)            (None, 32)                4128      \n",
      "                                                                 \n",
      " dense_21 (Dense)            (None, 3)                 99        \n",
      "                                                                 \n",
      "=================================================================\n",
      "Total params: 5,579,523\n",
      "Trainable params: 5,579,523\n",
      "Non-trainable params: 0\n",
      "_________________________________________________________________\n"
     ]
    }
   ],
   "source": [
    "model.summary()"
   ]
  },
  {
   "cell_type": "code",
   "execution_count": 42,
   "metadata": {},
   "outputs": [],
   "source": [
    "opt = Adam(learning_rate=0.00005)\n",
    "\n",
    "model.compile(loss='categorical_crossentropy', optimizer=opt, metrics=[\"accuracy\"])"
   ]
  },
  {
   "cell_type": "code",
   "execution_count": 43,
   "metadata": {},
   "outputs": [
    {
     "name": "stdout",
     "output_type": "stream",
     "text": [
      "Epoch 1/20\n",
      "60/60 [==============================] - 20s 329ms/step - loss: 0.9352 - accuracy: 0.4467 - val_loss: 0.8900 - val_accuracy: 0.6250\n",
      "Epoch 2/20\n",
      "60/60 [==============================] - 19s 317ms/step - loss: 0.8901 - accuracy: 0.5094 - val_loss: 0.8888 - val_accuracy: 0.4583\n",
      "Epoch 3/20\n",
      "60/60 [==============================] - 17s 291ms/step - loss: 0.8755 - accuracy: 0.5408 - val_loss: 0.8899 - val_accuracy: 0.4708\n",
      "Epoch 4/20\n",
      "60/60 [==============================] - 20s 335ms/step - loss: 0.8664 - accuracy: 0.5471 - val_loss: 0.8518 - val_accuracy: 0.5792\n",
      "Epoch 5/20\n",
      "60/60 [==============================] - 24s 392ms/step - loss: 0.8545 - accuracy: 0.5439 - val_loss: 0.8364 - val_accuracy: 0.6167\n",
      "Epoch 6/20\n",
      "60/60 [==============================] - 17s 287ms/step - loss: 0.8444 - accuracy: 0.5628 - val_loss: 0.8454 - val_accuracy: 0.5375\n",
      "Epoch 7/20\n",
      "60/60 [==============================] - 19s 310ms/step - loss: 0.8449 - accuracy: 0.5722 - val_loss: 0.8336 - val_accuracy: 0.5833\n",
      "Epoch 8/20\n",
      "60/60 [==============================] - 29s 489ms/step - loss: 0.8302 - accuracy: 0.5837 - val_loss: 0.8254 - val_accuracy: 0.6208\n",
      "Epoch 9/20\n",
      "60/60 [==============================] - 30s 501ms/step - loss: 0.8228 - accuracy: 0.5816 - val_loss: 0.8504 - val_accuracy: 0.5417\n",
      "Epoch 10/20\n",
      "60/60 [==============================] - 30s 501ms/step - loss: 0.8169 - accuracy: 0.5795 - val_loss: 0.8206 - val_accuracy: 0.6250\n",
      "Epoch 11/20\n",
      "60/60 [==============================] - 29s 488ms/step - loss: 0.8112 - accuracy: 0.5921 - val_loss: 0.8197 - val_accuracy: 0.6125\n",
      "Epoch 12/20\n",
      "60/60 [==============================] - 29s 489ms/step - loss: 0.8097 - accuracy: 0.5910 - val_loss: 0.8169 - val_accuracy: 0.6417\n",
      "Epoch 13/20\n",
      "60/60 [==============================] - 30s 496ms/step - loss: 0.8192 - accuracy: 0.5900 - val_loss: 0.8246 - val_accuracy: 0.5917\n",
      "Epoch 14/20\n",
      "60/60 [==============================] - 24s 402ms/step - loss: 0.7981 - accuracy: 0.5983 - val_loss: 0.8316 - val_accuracy: 0.5458\n",
      "Epoch 15/20\n",
      "60/60 [==============================] - 28s 465ms/step - loss: 0.7849 - accuracy: 0.6266 - val_loss: 0.8535 - val_accuracy: 0.5417\n",
      "Epoch 16/20\n",
      "60/60 [==============================] - 19s 319ms/step - loss: 0.7845 - accuracy: 0.6234 - val_loss: 0.8211 - val_accuracy: 0.5875\n",
      "Epoch 17/20\n",
      "60/60 [==============================] - 19s 319ms/step - loss: 0.7699 - accuracy: 0.6360 - val_loss: 0.8971 - val_accuracy: 0.5083\n",
      "Epoch 18/20\n",
      "60/60 [==============================] - 18s 296ms/step - loss: 0.7686 - accuracy: 0.6349 - val_loss: 0.8684 - val_accuracy: 0.5125\n",
      "Epoch 19/20\n",
      "60/60 [==============================] - 20s 340ms/step - loss: 0.8039 - accuracy: 0.5973 - val_loss: 0.8156 - val_accuracy: 0.5792\n",
      "Epoch 20/20\n",
      "60/60 [==============================] - 19s 321ms/step - loss: 0.7655 - accuracy: 0.6266 - val_loss: 0.8083 - val_accuracy: 0.6500\n"
     ]
    },
    {
     "data": {
      "text/plain": [
       "<keras.callbacks.History at 0x1fd00b51b10>"
      ]
     },
     "execution_count": 43,
     "metadata": {},
     "output_type": "execute_result"
    }
   ],
   "source": [
    "model.fit(X_train, y_train, epochs=20, batch_size=16, validation_data=(X_test, y_test))"
   ]
  },
  {
   "cell_type": "code",
   "execution_count": 44,
   "metadata": {},
   "outputs": [],
   "source": [
    "model_json = model.to_json()\n",
    "with open(os.path.join(model_save_path, \"audio_model.json\"), \"w\") as file:\n",
    "    file.write(model_json)"
   ]
  },
  {
   "cell_type": "code",
   "execution_count": 45,
   "metadata": {},
   "outputs": [],
   "source": [
    "model.save('data/pretrained_models/audio_model.h5')"
   ]
  }
 ],
 "metadata": {
  "kernelspec": {
   "display_name": "Python 3",
   "language": "python",
   "name": "python3"
  },
  "language_info": {
   "codemirror_mode": {
    "name": "ipython",
    "version": 3
   },
   "file_extension": ".py",
   "mimetype": "text/x-python",
   "name": "python",
   "nbconvert_exporter": "python",
   "pygments_lexer": "ipython3",
   "version": "3.10.0"
  }
 },
 "nbformat": 4,
 "nbformat_minor": 2
}
