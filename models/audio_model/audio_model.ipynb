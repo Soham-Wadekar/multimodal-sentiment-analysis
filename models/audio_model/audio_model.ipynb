{
 "cells": [
  {
   "cell_type": "code",
   "execution_count": 1,
   "metadata": {},
   "outputs": [],
   "source": [
    "import pandas as pd\n",
    "import numpy as np\n",
    "import os\n",
    "\n",
    "main_dir = os.environ.get(\"MAIN_DIRECTORY\")\n",
    "os.chdir(main_dir)\n",
    "\n",
    "from preprocessing.preprocessor import preprocess_audio\n",
    "\n",
    "from dotenv import load_dotenv, find_dotenv\n",
    "load_dotenv(find_dotenv())\n",
    "\n",
    "from sklearn.model_selection import train_test_split\n",
    "from tensorflow.keras.models import Sequential\n",
    "from tensorflow.keras.layers import Dense, Dropout, Flatten\n",
    "from tensorflow.keras.optimizers import Adam, RMSprop\n",
    "from tensorflow.keras.utils import to_categorical"
   ]
  },
  {
   "cell_type": "code",
   "execution_count": 2,
   "metadata": {},
   "outputs": [],
   "source": [
    "model_save_path = os.environ.get(\"PRETRAINED_MODELS_PATH\")"
   ]
  },
  {
   "cell_type": "code",
   "execution_count": 3,
   "metadata": {},
   "outputs": [
    {
     "name": "stdout",
     "output_type": "stream",
     "text": [
      "['negative', 'neutral', 'positive']\n"
     ]
    }
   ],
   "source": [
    "sentiments = ['negative', 'neutral', 'positive']\n",
    "print(sentiments)"
   ]
  },
  {
   "cell_type": "code",
   "execution_count": 4,
   "metadata": {},
   "outputs": [],
   "source": [
    "data = preprocess_audio(\"models/audio_model/data\")"
   ]
  },
  {
   "cell_type": "code",
   "execution_count": 5,
   "metadata": {},
   "outputs": [
    {
     "data": {
      "text/html": [
       "<div>\n",
       "<style scoped>\n",
       "    .dataframe tbody tr th:only-of-type {\n",
       "        vertical-align: middle;\n",
       "    }\n",
       "\n",
       "    .dataframe tbody tr th {\n",
       "        vertical-align: top;\n",
       "    }\n",
       "\n",
       "    .dataframe thead th {\n",
       "        text-align: right;\n",
       "    }\n",
       "</style>\n",
       "<table border=\"1\" class=\"dataframe\">\n",
       "  <thead>\n",
       "    <tr style=\"text-align: right;\">\n",
       "      <th></th>\n",
       "      <th>Name</th>\n",
       "      <th>Features</th>\n",
       "      <th>Label</th>\n",
       "    </tr>\n",
       "  </thead>\n",
       "  <tbody>\n",
       "    <tr>\n",
       "      <th>0</th>\n",
       "      <td>03-01-08-02-02-02-23.wav</td>\n",
       "      <td>[-3.4641016, -3.4641016, -3.4641016, -3.464101...</td>\n",
       "      <td>0</td>\n",
       "    </tr>\n",
       "    <tr>\n",
       "      <th>1</th>\n",
       "      <td>03-01-08-02-02-02-23.wav</td>\n",
       "      <td>[-3.464102, -3.464102, -3.464102, -3.464102, -...</td>\n",
       "      <td>0</td>\n",
       "    </tr>\n",
       "    <tr>\n",
       "      <th>2</th>\n",
       "      <td>03-01-08-02-02-02-23.wav</td>\n",
       "      <td>[-3.4641018, -3.4641018, -3.4641018, -3.464101...</td>\n",
       "      <td>0</td>\n",
       "    </tr>\n",
       "    <tr>\n",
       "      <th>3</th>\n",
       "      <td>03-01-08-02-02-02-23.wav</td>\n",
       "      <td>[-3.4641013, -3.4641013, -3.4641013, -3.464101...</td>\n",
       "      <td>0</td>\n",
       "    </tr>\n",
       "    <tr>\n",
       "      <th>4</th>\n",
       "      <td>03-01-08-02-02-02-23.wav</td>\n",
       "      <td>[-3.4641001, -3.463962, -3.4638703, -3.4640238...</td>\n",
       "      <td>0</td>\n",
       "    </tr>\n",
       "  </tbody>\n",
       "</table>\n",
       "</div>"
      ],
      "text/plain": [
       "                       Name  \\\n",
       "0  03-01-08-02-02-02-23.wav   \n",
       "1  03-01-08-02-02-02-23.wav   \n",
       "2  03-01-08-02-02-02-23.wav   \n",
       "3  03-01-08-02-02-02-23.wav   \n",
       "4  03-01-08-02-02-02-23.wav   \n",
       "\n",
       "                                            Features  Label  \n",
       "0  [-3.4641016, -3.4641016, -3.4641016, -3.464101...      0  \n",
       "1  [-3.464102, -3.464102, -3.464102, -3.464102, -...      0  \n",
       "2  [-3.4641018, -3.4641018, -3.4641018, -3.464101...      0  \n",
       "3  [-3.4641013, -3.4641013, -3.4641013, -3.464101...      0  \n",
       "4  [-3.4641001, -3.463962, -3.4638703, -3.4640238...      0  "
      ]
     },
     "execution_count": 5,
     "metadata": {},
     "output_type": "execute_result"
    }
   ],
   "source": [
    "data.head()"
   ]
  },
  {
   "cell_type": "code",
   "execution_count": 38,
   "metadata": {},
   "outputs": [],
   "source": [
    "model = Sequential([\n",
    "    Dense(2048, activation='relu', input_shape=(2145,)),\n",
    "    Dense(512, activation='relu'),\n",
    "    Dropout(0.2),\n",
    "    Dense(128, activation='relu'),\n",
    "    Dense(64, activation='relu'),\n",
    "    Dropout(0.2),\n",
    "    Dense(32, activation='relu'),\n",
    "    Dense(3, activation='softmax')\n",
    "])"
   ]
  },
  {
   "cell_type": "code",
   "execution_count": 39,
   "metadata": {},
   "outputs": [
    {
     "name": "stdout",
     "output_type": "stream",
     "text": [
      "Model: \"sequential_5\"\n",
      "_________________________________________________________________\n",
      " Layer (type)                Output Shape              Param #   \n",
      "=================================================================\n",
      " dense_30 (Dense)            (None, 2048)              4395008   \n",
      "                                                                 \n",
      " dense_31 (Dense)            (None, 512)               1049088   \n",
      "                                                                 \n",
      " dropout_4 (Dropout)         (None, 512)               0         \n",
      "                                                                 \n",
      " dense_32 (Dense)            (None, 128)               65664     \n",
      "                                                                 \n",
      " dense_33 (Dense)            (None, 64)                8256      \n",
      "                                                                 \n",
      " dropout_5 (Dropout)         (None, 64)                0         \n",
      "                                                                 \n",
      " dense_34 (Dense)            (None, 32)                2080      \n",
      "                                                                 \n",
      " dense_35 (Dense)            (None, 3)                 99        \n",
      "                                                                 \n",
      "=================================================================\n",
      "Total params: 5,520,195\n",
      "Trainable params: 5,520,195\n",
      "Non-trainable params: 0\n",
      "_________________________________________________________________\n"
     ]
    }
   ],
   "source": [
    "model.summary()"
   ]
  },
  {
   "cell_type": "code",
   "execution_count": 40,
   "metadata": {},
   "outputs": [],
   "source": [
    "opt = Adam(learning_rate=0.0001)\n",
    "\n",
    "model.compile(loss='categorical_crossentropy', optimizer=opt, metrics=[\"accuracy\"])"
   ]
  },
  {
   "cell_type": "code",
   "execution_count": 41,
   "metadata": {},
   "outputs": [],
   "source": [
    "X = np.array(data[\"Features\"].to_list())\n",
    "y = to_categorical(data['Label'], num_classes=3)\n",
    "\n",
    "X_train, X_test, y_train, y_test = train_test_split(X, y, test_size=0.2)"
   ]
  },
  {
   "cell_type": "code",
   "execution_count": 42,
   "metadata": {},
   "outputs": [
    {
     "name": "stdout",
     "output_type": "stream",
     "text": [
      "Epoch 1/25\n",
      "60/60 [==============================] - 2s 29ms/step - loss: 0.9020 - accuracy: 0.5418 - val_loss: 0.8512 - val_accuracy: 0.5875\n",
      "Epoch 2/25\n",
      "60/60 [==============================] - 2s 28ms/step - loss: 0.8728 - accuracy: 0.5743 - val_loss: 0.8409 - val_accuracy: 0.5875\n",
      "Epoch 3/25\n",
      "60/60 [==============================] - 2s 27ms/step - loss: 0.8424 - accuracy: 0.5805 - val_loss: 0.8416 - val_accuracy: 0.5875\n",
      "Epoch 4/25\n",
      "60/60 [==============================] - 2s 27ms/step - loss: 0.8185 - accuracy: 0.5805 - val_loss: 0.8363 - val_accuracy: 0.6000\n",
      "Epoch 5/25\n",
      "60/60 [==============================] - 2s 26ms/step - loss: 0.7949 - accuracy: 0.6036 - val_loss: 0.8504 - val_accuracy: 0.5458\n",
      "Epoch 6/25\n",
      "60/60 [==============================] - 1s 25ms/step - loss: 0.7625 - accuracy: 0.6287 - val_loss: 0.8671 - val_accuracy: 0.5625\n",
      "Epoch 7/25\n",
      "60/60 [==============================] - 2s 26ms/step - loss: 0.7203 - accuracy: 0.6695 - val_loss: 0.8502 - val_accuracy: 0.6167\n",
      "Epoch 8/25\n",
      "60/60 [==============================] - 2s 29ms/step - loss: 0.6996 - accuracy: 0.6883 - val_loss: 1.2423 - val_accuracy: 0.4833\n",
      "Epoch 9/25\n",
      "60/60 [==============================] - 1s 25ms/step - loss: 0.6587 - accuracy: 0.7040 - val_loss: 0.9168 - val_accuracy: 0.5750\n",
      "Epoch 10/25\n",
      "60/60 [==============================] - 1s 25ms/step - loss: 0.6058 - accuracy: 0.7416 - val_loss: 0.9422 - val_accuracy: 0.5833\n",
      "Epoch 11/25\n",
      "60/60 [==============================] - 2s 27ms/step - loss: 0.5354 - accuracy: 0.7678 - val_loss: 1.0158 - val_accuracy: 0.5958\n",
      "Epoch 12/25\n",
      "60/60 [==============================] - 2s 25ms/step - loss: 0.4919 - accuracy: 0.8107 - val_loss: 0.9857 - val_accuracy: 0.5292\n",
      "Epoch 13/25\n",
      "60/60 [==============================] - 2s 25ms/step - loss: 0.4636 - accuracy: 0.8075 - val_loss: 0.9696 - val_accuracy: 0.6042\n",
      "Epoch 14/25\n",
      "60/60 [==============================] - 2s 26ms/step - loss: 0.4105 - accuracy: 0.8326 - val_loss: 1.0278 - val_accuracy: 0.6042\n",
      "Epoch 15/25\n",
      "60/60 [==============================] - 1s 25ms/step - loss: 0.3494 - accuracy: 0.8724 - val_loss: 1.3293 - val_accuracy: 0.5417\n",
      "Epoch 16/25\n",
      "60/60 [==============================] - 2s 25ms/step - loss: 0.2989 - accuracy: 0.8860 - val_loss: 1.2125 - val_accuracy: 0.5708\n",
      "Epoch 17/25\n",
      "60/60 [==============================] - 1s 25ms/step - loss: 0.2263 - accuracy: 0.9184 - val_loss: 1.3446 - val_accuracy: 0.5708\n",
      "Epoch 18/25\n",
      "60/60 [==============================] - 2s 27ms/step - loss: 0.2229 - accuracy: 0.9142 - val_loss: 1.3136 - val_accuracy: 0.5958\n",
      "Epoch 19/25\n",
      "60/60 [==============================] - 2s 28ms/step - loss: 0.1844 - accuracy: 0.9289 - val_loss: 1.4555 - val_accuracy: 0.5875\n",
      "Epoch 20/25\n",
      "60/60 [==============================] - 2s 26ms/step - loss: 0.1296 - accuracy: 0.9634 - val_loss: 1.7438 - val_accuracy: 0.5292\n",
      "Epoch 21/25\n",
      "60/60 [==============================] - 2s 27ms/step - loss: 0.1016 - accuracy: 0.9697 - val_loss: 1.8671 - val_accuracy: 0.5583\n",
      "Epoch 22/25\n",
      "60/60 [==============================] - 2s 27ms/step - loss: 0.1168 - accuracy: 0.9603 - val_loss: 1.6429 - val_accuracy: 0.6292\n",
      "Epoch 23/25\n",
      "60/60 [==============================] - 2s 25ms/step - loss: 0.0883 - accuracy: 0.9697 - val_loss: 1.7419 - val_accuracy: 0.6083\n",
      "Epoch 24/25\n",
      "60/60 [==============================] - 2s 25ms/step - loss: 0.0665 - accuracy: 0.9780 - val_loss: 2.0695 - val_accuracy: 0.5208\n",
      "Epoch 25/25\n",
      "60/60 [==============================] - 2s 26ms/step - loss: 0.0925 - accuracy: 0.9655 - val_loss: 1.9141 - val_accuracy: 0.5458\n"
     ]
    },
    {
     "data": {
      "text/plain": [
       "<keras.callbacks.History at 0x1f2847fb850>"
      ]
     },
     "execution_count": 42,
     "metadata": {},
     "output_type": "execute_result"
    }
   ],
   "source": [
    "model.fit(X_train, y_train, epochs=25, batch_size=16, validation_data=(X_test, y_test))"
   ]
  },
  {
   "cell_type": "code",
   "execution_count": 11,
   "metadata": {},
   "outputs": [],
   "source": [
    "model_json = model.to_json()\n",
    "with open(os.path.join(model_save_path, \"audio_model.json\"), \"w\") as file:\n",
    "    file.write(model_json)"
   ]
  }
 ],
 "metadata": {
  "kernelspec": {
   "display_name": "Python 3",
   "language": "python",
   "name": "python3"
  },
  "language_info": {
   "codemirror_mode": {
    "name": "ipython",
    "version": 3
   },
   "file_extension": ".py",
   "mimetype": "text/x-python",
   "name": "python",
   "nbconvert_exporter": "python",
   "pygments_lexer": "ipython3",
   "version": "3.10.0"
  }
 },
 "nbformat": 4,
 "nbformat_minor": 2
}
