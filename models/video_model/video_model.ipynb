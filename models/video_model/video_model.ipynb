{
 "cells": [
  {
   "cell_type": "code",
   "execution_count": 1,
   "metadata": {},
   "outputs": [],
   "source": [
    "import numpy as np\n",
    "import pandas as pd\n",
    "import matplotlib.pyplot as plt\n",
    "import seaborn as sns\n",
    "import os\n",
    "import cv2\n",
    "\n",
    "from tensorflow.keras.preprocessing.image import ImageDataGenerator\n",
    "from tensorflow.keras.models import Sequential\n",
    "from tensorflow.keras.layers import Conv2D, MaxPooling2D, Dense, Dropout, Flatten\n",
    "from tensorflow.keras.optimizers.legacy import Adam, RMSprop\n",
    "\n",
    "from dotenv import load_dotenv, find_dotenv\n",
    "load_dotenv(find_dotenv())\n",
    "main_dir = os.environ.get(\"MAIN_DIRECTORY\")\n",
    "os.chdir(main_dir)"
   ]
  },
  {
   "cell_type": "code",
   "execution_count": null,
   "metadata": {},
   "outputs": [],
   "source": [
    "model_save_path = os.environ.get(\"PRETRAINED_MODELS_PATH\")"
   ]
  },
  {
   "cell_type": "code",
   "execution_count": null,
   "metadata": {},
   "outputs": [],
   "source": [
    "sentiments = ['negative', 'neutral', 'positive']\n",
    "print(sentiments)"
   ]
  },
  {
   "cell_type": "code",
   "execution_count": null,
   "metadata": {},
   "outputs": [],
   "source": [
    "train_img_cnt = []\n",
    "\n",
    "for sent in sentiments:\n",
    "    img_cnt = len(os.listdir('models/video_model/data/train/'+sent))\n",
    "    print(f\"No. of train '{sent}' images: {img_cnt}\")\n",
    "    train_img_cnt.append(img_cnt)"
   ]
  },
  {
   "cell_type": "code",
   "execution_count": null,
   "metadata": {},
   "outputs": [],
   "source": [
    "test_img_cnt = []\n",
    "\n",
    "for sent in sentiments:\n",
    "    img_cnt = len(os.listdir('models/video_model/data/test/'+sent))\n",
    "    print(f\"No. of test '{sent}' images: {img_cnt}\")\n",
    "    test_img_cnt.append(img_cnt)"
   ]
  },
  {
   "cell_type": "code",
   "execution_count": null,
   "metadata": {},
   "outputs": [],
   "source": [
    "colors = ['r', 'gray', 'g']\n",
    "fig, ax = plt.subplots(1,2,figsize=(15,5))\n",
    "\n",
    "ax[0].bar(sentiments, train_img_cnt, color=colors)\n",
    "ax[0].set_title('No. of train images')\n",
    "\n",
    "ax[1].bar(sentiments, test_img_cnt, color=colors)\n",
    "ax[1].set_title('No. of test images')\n",
    "\n",
    "plt.tight_layout()\n",
    "plt.show()"
   ]
  },
  {
   "cell_type": "code",
   "execution_count": null,
   "metadata": {},
   "outputs": [],
   "source": [
    "X, y = [], []\n",
    "\n",
    "for sent in sentiments:\n",
    "    path = os.path.join(\"models/video_model/data/train\", sent)\n",
    "    label = sentiments.index(sent)\n",
    "    for filename in os.listdir(path):\n",
    "        img_path = os.path.join(path, filename)\n",
    "        img = cv2.imread(img_path)\n",
    "        img = cv2.resize(img, (48, 48))\n",
    "        X.append(img)\n",
    "        y.append(label)\n",
    "\n",
    "X = np.array(X)\n",
    "y = np.array(y)"
   ]
  },
  {
   "cell_type": "code",
   "execution_count": null,
   "metadata": {},
   "outputs": [],
   "source": [
    "print(f\"Shape of X: {X.shape}\")\n",
    "print(f\"Shape of y: {y.shape}\")"
   ]
  },
  {
   "cell_type": "code",
   "execution_count": null,
   "metadata": {},
   "outputs": [],
   "source": [
    "plt.figure(figsize=(12,5))\n",
    "for i in range(1,6):\n",
    "    plt.subplot(1,5,i)\n",
    "    rand_num = np.random.randint(0,24612 + 1)\n",
    "    plt.imshow(X[rand_num])\n",
    "    plt.title(f\"Sentiment: {sentiments[y[rand_num]].capitalize()}\")\n",
    "    plt.tight_layout()\n",
    "    plt.axis('off')\n",
    "plt.show()"
   ]
  },
  {
   "cell_type": "code",
   "execution_count": null,
   "metadata": {},
   "outputs": [],
   "source": [
    "datagen = ImageDataGenerator(\n",
    "    rescale = 1./255,\n",
    "    shear_range = 0.2,\n",
    "    zoom_range = 0.2,\n",
    "    horizontal_flip = True\n",
    ")"
   ]
  },
  {
   "cell_type": "code",
   "execution_count": null,
   "metadata": {},
   "outputs": [],
   "source": [
    "train_gen = datagen.flow_from_directory(\n",
    "    \"models/video_model/data/train\",\n",
    "    target_size = (48, 48),\n",
    "    batch_size = 32,\n",
    "    class_mode = 'categorical'\n",
    ")\n",
    "\n",
    "validation_gen = datagen.flow_from_directory(\n",
    "    \"models/video_model/data/test\",\n",
    "    target_size = (48, 48),\n",
    "    batch_size = 32,\n",
    "    class_mode = 'categorical'\n",
    ")"
   ]
  },
  {
   "cell_type": "code",
   "execution_count": null,
   "metadata": {},
   "outputs": [],
   "source": [
    "model = Sequential([\n",
    "                Conv2D(32, kernel_size=(3, 3), activation='relu', input_shape=(48, 48, 3),padding='same'),\n",
    "                Conv2D(64, kernel_size=(3, 3), activation='relu'),\n",
    "                MaxPooling2D(pool_size=(2, 2)),\n",
    "                Dropout(0.25),\n",
    "\n",
    "                Conv2D(64, kernel_size=(3, 3), activation='relu'),\n",
    "                MaxPooling2D(pool_size=(2, 2)),\n",
    "                Conv2D(128, kernel_size=(3, 3), activation='relu'),\n",
    "                MaxPooling2D(pool_size=(2, 2)),\n",
    "                Dropout(0.25),\n",
    "\n",
    "                Flatten(),\n",
    "                Dense(64, activation='relu'),\n",
    "                Dropout(0.5),\n",
    "                Dense(3, activation='softmax')]\n",
    "                   )"
   ]
  },
  {
   "cell_type": "code",
   "execution_count": null,
   "metadata": {},
   "outputs": [],
   "source": [
    "model.summary()"
   ]
  },
  {
   "cell_type": "code",
   "execution_count": null,
   "metadata": {},
   "outputs": [],
   "source": [
    "opt = Adam(learning_rate=0.0001,decay=1e-6)\n",
    "\n",
    "model.compile(loss='categorical_crossentropy',optimizer=opt,metrics=['accuracy'])"
   ]
  },
  {
   "cell_type": "code",
   "execution_count": null,
   "metadata": {},
   "outputs": [],
   "source": [
    "history = model.fit(\n",
    "        train_gen,\n",
    "        steps_per_epoch= 24612 // 64,\n",
    "        epochs = 50,\n",
    "        validation_data = validation_gen,\n",
    "        validation_steps = 6154 // 64\n",
    "        )"
   ]
  },
  {
   "cell_type": "code",
   "execution_count": null,
   "metadata": {},
   "outputs": [],
   "source": [
    "model_json = model.to_json()\n",
    "with open('/content/video_model.json', 'w') as json_file:\n",
    "    json_file.write(model_json)"
   ]
  }
 ],
 "metadata": {
  "kernelspec": {
   "display_name": "Python 3",
   "language": "python",
   "name": "python3"
  },
  "language_info": {
   "codemirror_mode": {
    "name": "ipython",
    "version": 3
   },
   "file_extension": ".py",
   "mimetype": "text/x-python",
   "name": "python",
   "nbconvert_exporter": "python",
   "pygments_lexer": "ipython3",
   "version": "3.10.0"
  }
 },
 "nbformat": 4,
 "nbformat_minor": 2
}
