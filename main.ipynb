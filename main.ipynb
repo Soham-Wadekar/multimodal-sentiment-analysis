{
 "cells": [
  {
   "cell_type": "code",
   "execution_count": 1,
   "metadata": {},
   "outputs": [],
   "source": [
    "from extraction.extractor import extract"
   ]
  },
  {
   "cell_type": "code",
   "execution_count": 2,
   "metadata": {},
   "outputs": [
    {
     "name": "stdout",
     "output_type": "stream",
     "text": [
      "Extracting...\n",
      "\n",
      "Extracting Audio...\n",
      "Audio Extracted!!\n",
      "\n",
      "Extracting Videoframes...\n",
      "Videoframes Extracted!!\n",
      "\n",
      "Extracting Text...\n",
      "Text Extracted!!\n",
      "\n",
      "Extraction Completed. Files stored in 'data/extracted_files/'\n"
     ]
    }
   ],
   "source": [
    "extract(\"video.mp4\")"
   ]
  }
 ],
 "metadata": {
  "kernelspec": {
   "display_name": "Python 3",
   "language": "python",
   "name": "python3"
  },
  "language_info": {
   "codemirror_mode": {
    "name": "ipython",
    "version": 3
   },
   "file_extension": ".py",
   "mimetype": "text/x-python",
   "name": "python",
   "nbconvert_exporter": "python",
   "pygments_lexer": "ipython3",
   "version": "3.10.0"
  }
 },
 "nbformat": 4,
 "nbformat_minor": 2
}
